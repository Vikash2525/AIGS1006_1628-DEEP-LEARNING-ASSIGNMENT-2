{
 "cells": [
  {
   "cell_type": "markdown",
   "metadata": {
    "id": "1-vnSZG2M_hx"
   },
   "source": [
    "a) No. Training Samples - **8143**\n",
    "   No. Test Samples -  **9752**"
   ]
  },
  {
   "cell_type": "code",
   "execution_count": 2,
   "metadata": {
    "id": "veLACm4QGjla"
   },
   "outputs": [],
   "source": [
    "import tensorflow as tf\n",
    "from tensorflow.keras.layers import Dense\n",
    "import pandas as pd\n",
    "import numpy as np\n",
    "import matplotlib.pyplot as plt\n",
    "from sklearn.model_selection import train_test_split"
   ]
  },
  {
   "cell_type": "code",
   "execution_count": 3,
   "metadata": {
    "colab": {
     "base_uri": "https://localhost:8080/"
    },
    "id": "mk8qZCASGrdp",
    "outputId": "8983e834-b1c7-4b56-fc9c-96bbd6c8ded8"
   },
   "outputs": [
    {
     "name": "stdout",
     "output_type": "stream",
     "text": [
      "<class 'pandas.core.frame.DataFrame'>\n",
      "Int64Index: 9752 entries, 1 to 9752\n",
      "Data columns (total 7 columns):\n",
      " #   Column         Non-Null Count  Dtype  \n",
      "---  ------         --------------  -----  \n",
      " 0   date           9752 non-null   object \n",
      " 1   Temperature    9752 non-null   float64\n",
      " 2   Humidity       9752 non-null   float64\n",
      " 3   Light          9752 non-null   float64\n",
      " 4   CO2            9752 non-null   float64\n",
      " 5   HumidityRatio  9752 non-null   float64\n",
      " 6   Occupancy      9752 non-null   int64  \n",
      "dtypes: float64(5), int64(1), object(1)\n",
      "memory usage: 609.5+ KB\n"
     ]
    }
   ],
   "source": [
    "testdata = pd.read_csv('testData.txt', sep=',')\n",
    "traindata = pd.read_csv('trainData.txt', sep=',')\n",
    "\n",
    "testdata.info()"
   ]
  },
  {
   "cell_type": "code",
   "execution_count": 4,
   "metadata": {
    "colab": {
     "base_uri": "https://localhost:8080/"
    },
    "id": "0HHdwYF2G42X",
    "outputId": "39b89e10-e035-4adc-bd8c-81f6699181e0"
   },
   "outputs": [
    {
     "name": "stdout",
     "output_type": "stream",
     "text": [
      "<class 'pandas.core.frame.DataFrame'>\n",
      "Int64Index: 8143 entries, 1 to 8143\n",
      "Data columns (total 7 columns):\n",
      " #   Column         Non-Null Count  Dtype  \n",
      "---  ------         --------------  -----  \n",
      " 0   date           8143 non-null   object \n",
      " 1   Temperature    8143 non-null   float64\n",
      " 2   Humidity       8143 non-null   float64\n",
      " 3   Light          8143 non-null   float64\n",
      " 4   CO2            8143 non-null   float64\n",
      " 5   HumidityRatio  8143 non-null   float64\n",
      " 6   Occupancy      8143 non-null   int64  \n",
      "dtypes: float64(5), int64(1), object(1)\n",
      "memory usage: 508.9+ KB\n"
     ]
    }
   ],
   "source": [
    "traindata.info()"
   ]
  },
  {
   "cell_type": "code",
   "execution_count": 7,
   "metadata": {
    "id": "pcubBOSZHSaL"
   },
   "outputs": [],
   "source": [
    "X = traindata.iloc[:5000, 1:6]\n",
    "Y = testdata.iloc[:5000, -1:]\n",
    "\n",
    "train_x, test_x, train_y, test_y = train_test_split(X, Y, test_size=0.2, random_state=0)"
   ]
  },
  {
   "cell_type": "code",
   "execution_count": 9,
   "metadata": {
    "colab": {
     "base_uri": "https://localhost:8080/"
    },
    "id": "7sTOwia4HJB0",
    "outputId": "743d66a9-3450-4b9a-e194-e2af363bd812"
   },
   "outputs": [
    {
     "name": "stdout",
     "output_type": "stream",
     "text": [
      "(4000, 5) (4000, 1) (1000, 5) (1000, 1)\n"
     ]
    }
   ],
   "source": [
    "print(train_x.shape, train_y.shape, test_x.shape, test_y.shape)"
   ]
  },
  {
   "cell_type": "code",
   "execution_count": 3,
   "metadata": {
    "colab": {
     "base_uri": "https://localhost:8080/"
    },
    "id": "ynoRQZP4Ha5L",
    "outputId": "59a8811b-273f-4d08-9bb0-7c6f41a9f717"
   },
   "outputs": [
    {
     "name": "stdout",
     "output_type": "stream",
     "text": [
      "Model: \"sequential\"\n",
      "_________________________________________________________________\n",
      " Layer (type)                Output Shape              Param #   \n",
      "=================================================================\n",
      " dense (Dense)               (None, 16)                96        \n",
      "                                                                 \n",
      " dense_1 (Dense)             (None, 32)                544       \n",
      "                                                                 \n",
      " dense_2 (Dense)             (None, 32)                1056      \n",
      "                                                                 \n",
      " dense_3 (Dense)             (None, 1)                 33        \n",
      "                                                                 \n",
      "=================================================================\n",
      "Total params: 1,729\n",
      "Trainable params: 1,729\n",
      "Non-trainable params: 0\n",
      "_________________________________________________________________\n"
     ]
    }
   ],
   "source": [
    "model = tf.keras.Sequential()\n",
    "model.add(Dense(16, activation='relu',input_shape=(5, ))) \n",
    "model.add(Dense(32, activation='softplus')) \n",
    "model.add(Dense(32, activation='softplus'))\n",
    "model.add(Dense(1, activation='sigmoid')) \n",
    "\n",
    "model.summary()"
   ]
  },
  {
   "cell_type": "code",
   "execution_count": 11,
   "metadata": {
    "id": "RT4j5OnOHf-J"
   },
   "outputs": [],
   "source": [
    "lossfunction = tf.keras.losses.BinaryCrossentropy()\n",
    "model.compile(optimizer= 'adam', loss= lossfunction, metrics=['accuracy'])"
   ]
  },
  {
   "cell_type": "code",
   "execution_count": 12,
   "metadata": {
    "colab": {
     "base_uri": "https://localhost:8080/"
    },
    "id": "BQpdNBlSHoud",
    "outputId": "2ad3a250-c306-4498-e753-1eeaa72ef4a9"
   },
   "outputs": [
    {
     "name": "stdout",
     "output_type": "stream",
     "text": [
      "Epoch 1/5\n",
      "88/88 [==============================] - 1s 3ms/step - loss: 1.7641 - accuracy: 0.7368 - val_loss: 0.4753 - val_accuracy: 0.8033\n",
      "Epoch 2/5\n",
      "88/88 [==============================] - 0s 2ms/step - loss: 0.4568 - accuracy: 0.8118 - val_loss: 0.4954 - val_accuracy: 0.7575\n",
      "Epoch 3/5\n",
      "88/88 [==============================] - 0s 2ms/step - loss: 0.4505 - accuracy: 0.8154 - val_loss: 0.4549 - val_accuracy: 0.8017\n",
      "Epoch 4/5\n",
      "88/88 [==============================] - 0s 2ms/step - loss: 0.4377 - accuracy: 0.8211 - val_loss: 0.4816 - val_accuracy: 0.7575\n",
      "Epoch 5/5\n",
      "88/88 [==============================] - 0s 2ms/step - loss: 0.4435 - accuracy: 0.8196 - val_loss: 0.5887 - val_accuracy: 0.8067\n"
     ]
    }
   ],
   "source": [
    "fitmodel = model.fit(train_x, train_y, epochs=5, validation_split=0.3)"
   ]
  },
  {
   "cell_type": "code",
   "execution_count": 13,
   "metadata": {
    "colab": {
     "base_uri": "https://localhost:8080/"
    },
    "id": "qYVzyxMlHt6c",
    "outputId": "f74e8208-963f-472d-a67a-86ce051d2ecc"
   },
   "outputs": [
    {
     "name": "stdout",
     "output_type": "stream",
     "text": [
      "125/125 [==============================] - 0s 1ms/step - loss: 0.5608 - accuracy: 0.8140\n",
      "32/32 [==============================] - 0s 911us/step - loss: 0.5817 - accuracy: 0.8070\n"
     ]
    }
   ],
   "source": [
    "training_loss, training_acc = model.evaluate(train_x, train_y)\n",
    "testing_loss, testing_acc = model.evaluate(test_x, test_y)"
   ]
  },
  {
   "cell_type": "code",
   "execution_count": 14,
   "metadata": {
    "colab": {
     "base_uri": "https://localhost:8080/"
    },
    "id": "7SRYitAGHx87",
    "outputId": "95e68006-f54b-426b-e679-d7ad37521f40"
   },
   "outputs": [
    {
     "name": "stdout",
     "output_type": "stream",
     "text": [
      "32/32 [==============================] - 0s 2ms/step\n",
      "tf.Tensor(\n",
      "[[804   0]\n",
      " [196   0]], shape=(2, 2), dtype=int32)\n"
     ]
    }
   ],
   "source": [
    "pred = model.predict(test_x)\n",
    "test_pred = np.argmax(pred, axis = 1)\n",
    "confusion_matrix = tf.math.confusion_matrix(labels= test_y, predictions=test_pred)\n",
    "print(confusion_matrix)"
   ]
  },
  {
   "cell_type": "code",
   "execution_count": 19,
   "metadata": {
    "colab": {
     "base_uri": "https://localhost:8080/",
     "height": 486
    },
    "id": "BIcoPmbTIMIP",
    "outputId": "dacaf934-0675-4971-e329-49f8bb45143c"
   },
   "outputs": [
    {
     "name": "stdout",
     "output_type": "stream",
     "text": [
      "Epoch 1/5\n",
      "88/88 [==============================] - 0s 3ms/step - loss: 0.3847 - accuracy: 0.8443 - val_loss: 0.3764 - val_accuracy: 0.8458\n",
      "Epoch 2/5\n",
      "88/88 [==============================] - 0s 2ms/step - loss: 0.4173 - accuracy: 0.8311 - val_loss: 0.3903 - val_accuracy: 0.8233\n",
      "Epoch 3/5\n",
      "88/88 [==============================] - 0s 2ms/step - loss: 0.3999 - accuracy: 0.8464 - val_loss: 0.3948 - val_accuracy: 0.8375\n",
      "Epoch 4/5\n",
      "88/88 [==============================] - 0s 5ms/step - loss: 0.3854 - accuracy: 0.8396 - val_loss: 0.3811 - val_accuracy: 0.8283\n",
      "Epoch 5/5\n",
      "88/88 [==============================] - 1s 6ms/step - loss: 0.4068 - accuracy: 0.8307 - val_loss: 0.4591 - val_accuracy: 0.8217\n"
     ]
    },
    {
     "data": {
      "text/plain": [
       "Text(0, 0.5, 'Accuracy')"
      ]
     },
     "execution_count": 19,
     "metadata": {},
     "output_type": "execute_result"
    },
    {
     "data": {
      "image/png": "[encoded data removed]",
      "text/plain": [
       "<Figure size 432x288 with 1 Axes>"
      ]
     },
     "metadata": {
      "needs_background": "light"
     },
     "output_type": "display_data"
    }
   ],
   "source": [
    "fitModel = model.fit(train_x, train_y, epochs = 5, validation_split = 0.3)\n",
    "\n",
    "\n",
    "plt.plot(fitModel.history['accuracy'])\n",
    "plt.plot(fitModel.history['val_accuracy'])\n",
    "plt.legend(['Training accuracy', 'Validation accuracy'])\n",
    "plt.title('Trianing and Validation Accuracies')\n",
    "plt.xlabel('Epoch#')\n",
    "plt.ylabel('Accuracy')\n",
    "\n",
    "\n"
   ]
  },
  {
   "cell_type": "code",
   "execution_count": 20,
   "metadata": {
    "colab": {
     "base_uri": "https://localhost:8080/",
     "height": 312
    },
    "id": "DyMnyTy8JWXO",
    "outputId": "aaf17081-93e2-4e38-88e0-8079d8079fb1"
   },
   "outputs": [
    {
     "data": {
      "text/plain": [
       "Text(0, 0.5, 'Loss')"
      ]
     },
     "execution_count": 20,
     "metadata": {},
     "output_type": "execute_result"
    },
    {
     "data": {
      "image/png": "[encoded data removed]",
      "text/plain": [
       "<Figure size 432x288 with 1 Axes>"
      ]
     },
     "metadata": {
      "needs_background": "light"
     },
     "output_type": "display_data"
    }
   ],
   "source": [
    "plt.plot(fitModel.history['loss'])\n",
    "plt.plot(fitModel.history['val_loss'])\n",
    "plt.legend(['Training loss', 'Validation loss'])\n",
    "plt.title('Trianing and Validation Losses')\n",
    "plt.xlabel('Epoch#')\n",
    "plt.ylabel('Loss')"
   ]
  },
  {
   "cell_type": "markdown",
   "metadata": {
    "id": "7pZQqaJzJ4TM"
   },
   "source": [
    "c) This is a three layer model with accuracy 81%"
   ]
  },
  {
   "cell_type": "code",
   "execution_count": 18,
   "metadata": {
    "colab": {
     "base_uri": "https://localhost:8080/"
    },
    "id": "7D2g9jXBIlcw",
    "outputId": "4c77e9f8-3bd7-4012-e65a-b7d9bdd303c4"
   },
   "outputs": [
    {
     "name": "stdout",
     "output_type": "stream",
     "text": [
      "32/32 [==============================] - 0s 872us/step\n",
      "confusion Matrix\n",
      " tf.Tensor(\n",
      "[[804   0]\n",
      " [196   0]], shape=(2, 2), dtype=int32)\n"
     ]
    }
   ],
   "source": [
    "test_predict = model.predict(test_x)\n",
    "test_predict_labels = np.argmax(test_predict, axis = 1)\n",
    "confusion_matrix = tf.math.confusion_matrix(labels = test_y, predictions = test_predict_labels)\n",
    "print('confusion Matrix\\n', confusion_matrix)\n"
   ]
  },
  {
   "cell_type": "markdown",
   "metadata": {
    "id": "w9PnuHMKMtSl"
   },
   "source": [
    "d) Adding one more hidden layer - 5 Input, Hidden Layer1, Hidden Layer2 and one output"
   ]
  },
  {
   "cell_type": "code",
   "execution_count": 4,
   "metadata": {
    "colab": {
     "base_uri": "https://localhost:8080/"
    },
    "id": "gC1vVconKFEv",
    "outputId": "003407eb-3408-4b0c-afc2-078af5d9d5ea"
   },
   "outputs": [
    {
     "name": "stdout",
     "output_type": "stream",
     "text": [
      "Model: \"sequential_1\"\n",
      "_________________________________________________________________\n",
      " Layer (type)                Output Shape              Param #   \n",
      "=================================================================\n",
      " dense_4 (Dense)             (None, 16)                96        \n",
      "                                                                 \n",
      " dense_5 (Dense)             (None, 32)                544       \n",
      "                                                                 \n",
      " dense_6 (Dense)             (None, 32)                1056      \n",
      "                                                                 \n",
      " dense_7 (Dense)             (None, 32)                1056      \n",
      "                                                                 \n",
      " dense_8 (Dense)             (None, 1)                 33        \n",
      "                                                                 \n",
      "=================================================================\n",
      "Total params: 2,785\n",
      "Trainable params: 2,785\n",
      "Non-trainable params: 0\n",
      "_________________________________________________________________\n"
     ]
    }
   ],
   "source": [
    "model2 = tf.keras.Sequential()\n",
    "model2.add(Dense(16, activation='relu',input_shape=(5, ))) \n",
    "model2.add(Dense(32, activation='softplus'))\n",
    "model2.add(Dense(32, activation='softplus'))\n",
    "model2.add(Dense(32, activation='softplus'))\n",
    "model2.add(Dense(1, activation='sigmoid')) \n",
    "\n",
    "model2.summary()"
   ]
  },
  {
   "cell_type": "code",
   "execution_count": 36,
   "metadata": {
    "id": "Al1yJeVrKNqh"
   },
   "outputs": [],
   "source": [
    "lossfunction = tf.keras.losses.BinaryCrossentropy()\n",
    "model2.compile(optimizer= 'adam', loss= lossfunction, metrics=['accuracy'])"
   ]
  },
  {
   "cell_type": "code",
   "execution_count": 37,
   "metadata": {
    "colab": {
     "base_uri": "https://localhost:8080/"
    },
    "id": "QKZbyCMlKTyI",
    "outputId": "6bcdf3eb-545e-4466-d096-ac981253fada"
   },
   "outputs": [
    {
     "name": "stdout",
     "output_type": "stream",
     "text": [
      "Epoch 1/5\n",
      "88/88 [==============================] - 1s 3ms/step - loss: 2.0191 - accuracy: 0.7336 - val_loss: 0.4693 - val_accuracy: 0.8067\n",
      "Epoch 2/5\n",
      "88/88 [==============================] - 0s 2ms/step - loss: 0.5072 - accuracy: 0.7946 - val_loss: 0.4611 - val_accuracy: 0.8100\n",
      "Epoch 3/5\n",
      "88/88 [==============================] - 0s 2ms/step - loss: 0.5034 - accuracy: 0.8018 - val_loss: 0.5135 - val_accuracy: 0.8058\n",
      "Epoch 4/5\n",
      "88/88 [==============================] - 0s 2ms/step - loss: 0.5511 - accuracy: 0.7896 - val_loss: 0.5518 - val_accuracy: 0.8058\n",
      "Epoch 5/5\n",
      "88/88 [==============================] - 0s 2ms/step - loss: 0.5335 - accuracy: 0.7957 - val_loss: 0.4620 - val_accuracy: 0.8092\n"
     ]
    }
   ],
   "source": [
    "fitmodel = model2.fit(train_x, train_y, epochs=5, validation_split=0.3)"
   ]
  },
  {
   "cell_type": "code",
   "execution_count": 38,
   "metadata": {
    "colab": {
     "base_uri": "https://localhost:8080/"
    },
    "id": "k4TpWusBKUCi",
    "outputId": "94b2eedf-824a-4026-d54e-73423be6ba72"
   },
   "outputs": [
    {
     "name": "stdout",
     "output_type": "stream",
     "text": [
      "125/125 [==============================] - 0s 1ms/step - loss: 0.4375 - accuracy: 0.8177\n",
      "32/32 [==============================] - 0s 1ms/step - loss: 0.4557 - accuracy: 0.8080\n"
     ]
    }
   ],
   "source": [
    "training_loss, training_acc = model2.evaluate(train_x, train_y)\n",
    "testing_loss, testing_acc = model2.evaluate(test_x, test_y)"
   ]
  },
  {
   "cell_type": "code",
   "execution_count": 39,
   "metadata": {
    "colab": {
     "base_uri": "https://localhost:8080/"
    },
    "id": "3CdHuk4nKUPP",
    "outputId": "69e9abeb-3c94-4500-d51c-2a6eb93adfc7"
   },
   "outputs": [
    {
     "name": "stdout",
     "output_type": "stream",
     "text": [
      "32/32 [==============================] - 0s 991us/step\n",
      "tf.Tensor(\n",
      "[[804   0]\n",
      " [196   0]], shape=(2, 2), dtype=int32)\n"
     ]
    }
   ],
   "source": [
    "pred = model2.predict(test_x)\n",
    "test_pred = np.argmax(pred, axis = 1)\n",
    "confusion_matrix = tf.math.confusion_matrix(labels= test_y, predictions=test_pred)\n",
    "print(confusion_matrix)"
   ]
  },
  {
   "cell_type": "code",
   "execution_count": 40,
   "metadata": {
    "colab": {
     "base_uri": "https://localhost:8080/",
     "height": 486
    },
    "id": "VXnEMX-pKUTN",
    "outputId": "6972693b-f14d-423f-e170-905b8e72ae78"
   },
   "outputs": [
    {
     "name": "stdout",
     "output_type": "stream",
     "text": [
      "Epoch 1/5\n",
      "88/88 [==============================] - 0s 2ms/step - loss: 0.5116 - accuracy: 0.7986 - val_loss: 0.5392 - val_accuracy: 0.8033\n",
      "Epoch 2/5\n",
      "88/88 [==============================] - 0s 2ms/step - loss: 0.5549 - accuracy: 0.7979 - val_loss: 0.4823 - val_accuracy: 0.7983\n",
      "Epoch 3/5\n",
      "88/88 [==============================] - 0s 2ms/step - loss: 0.4869 - accuracy: 0.8057 - val_loss: 0.4345 - val_accuracy: 0.8042\n",
      "Epoch 4/5\n",
      "88/88 [==============================] - 0s 3ms/step - loss: 0.5425 - accuracy: 0.8043 - val_loss: 0.4692 - val_accuracy: 0.7850\n",
      "Epoch 5/5\n",
      "88/88 [==============================] - 0s 2ms/step - loss: 0.4775 - accuracy: 0.8107 - val_loss: 0.5720 - val_accuracy: 0.7342\n"
     ]
    },
    {
     "data": {
      "text/plain": [
       "Text(0, 0.5, 'Accuracy')"
      ]
     },
     "execution_count": 40,
     "metadata": {},
     "output_type": "execute_result"
    },
    {
     "data": {
      "image/png": "[encoded data removed]",
      "text/plain": [
       "<Figure size 432x288 with 1 Axes>"
      ]
     },
     "metadata": {
      "needs_background": "light"
     },
     "output_type": "display_data"
    }
   ],
   "source": [
    "fitModel = model2.fit(train_x, train_y, epochs = 5, validation_split = 0.3)\n",
    "\n",
    "\n",
    "plt.plot(fitModel.history['accuracy'])\n",
    "plt.plot(fitModel.history['val_accuracy'])\n",
    "plt.legend(['Training accuracy', 'Validation accuracy'])\n",
    "plt.title('Trianing and Validation Accuracies')\n",
    "plt.xlabel('Epoch#')\n",
    "plt.ylabel('Accuracy')"
   ]
  },
  {
   "cell_type": "code",
   "execution_count": 41,
   "metadata": {
    "colab": {
     "base_uri": "https://localhost:8080/",
     "height": 312
    },
    "id": "ORoFxcDEMJ4t",
    "outputId": "1181689b-f95c-48f4-c19f-0af884867767"
   },
   "outputs": [
    {
     "data": {
      "text/plain": [
       "Text(0, 0.5, 'Loss')"
      ]
     },
     "execution_count": 41,
     "metadata": {},
     "output_type": "execute_result"
    },
    {
     "data": {
      "image/png": "[encoded data removed]",
      "text/plain": [
       "<Figure size 432x288 with 1 Axes>"
      ]
     },
     "metadata": {
      "needs_background": "light"
     },
     "output_type": "display_data"
    }
   ],
   "source": [
    "plt.plot(fitModel.history['loss'])\n",
    "plt.plot(fitModel.history['val_loss'])\n",
    "plt.legend(['Training loss', 'Validation loss'])\n",
    "plt.title('Trianing and Validation Losses')\n",
    "plt.xlabel('Epoch#')\n",
    "plt.ylabel('Loss')"
   ]
  }
 ],
 "metadata": {
  "colab": {
   "provenance": []
  },
  "kernelspec": {
   "display_name": "Python 3 (ipykernel)",
   "language": "python",
   "name": "python3"
  },
  "language_info": {
   "codemirror_mode": {
    "name": "ipython",
    "version": 3
   },
   "file_extension": ".py",
   "mimetype": "text/x-python",
   "name": "python",
   "nbconvert_exporter": "python",
   "pygments_lexer": "ipython3",
   "version": "3.9.12"
  }
 },
 "nbformat": 4,
 "nbformat_minor": 4
}
